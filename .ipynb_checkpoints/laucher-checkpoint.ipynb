{
 "cells": [
  {
   "cell_type": "code",
   "execution_count": 1,
   "id": "96c052e2-d169-48b7-a615-7ca672c0561b",
   "metadata": {},
   "outputs": [
    {
     "name": "stderr",
     "output_type": "stream",
     "text": [
      "2023-11-06 22:25:12.874475: I tensorflow/core/platform/cpu_feature_guard.cc:182] This TensorFlow binary is optimized to use available CPU instructions in performance-critical operations.\n",
      "To enable the following instructions: AVX2 AVX512F AVX512_VNNI FMA, in other operations, rebuild TensorFlow with the appropriate compiler flags.\n"
     ]
    },
    {
     "name": "stdout",
     "output_type": "stream",
     "text": [
      " * Serving Flask app '__main__'\n",
      " * Debug mode: off\n"
     ]
    },
    {
     "name": "stderr",
     "output_type": "stream",
     "text": [
      "\u001b[31m\u001b[1mWARNING: This is a development server. Do not use it in a production deployment. Use a production WSGI server instead.\u001b[0m\n",
      " * Running on http://127.0.0.1:5000\n",
      "\u001b[33mPress CTRL+C to quit\u001b[0m\n",
      "127.0.0.1 - - [06/Nov/2023 22:25:16] \"GET / HTTP/1.1\" 200 -\n",
      "[2023-11-06 22:25:22,453] ERROR in app: Exception on /predict_emotion [POST]\n",
      "Traceback (most recent call last):\n",
      "  File \"/usr/local/lib/python3.11/site-packages/flask/app.py\", line 1455, in wsgi_app\n",
      "    response = self.full_dispatch_request()\n",
      "               ^^^^^^^^^^^^^^^^^^^^^^^^^^^^\n",
      "  File \"/usr/local/lib/python3.11/site-packages/flask/app.py\", line 869, in full_dispatch_request\n",
      "    rv = self.handle_user_exception(e)\n",
      "         ^^^^^^^^^^^^^^^^^^^^^^^^^^^^^\n",
      "  File \"/usr/local/lib/python3.11/site-packages/flask/app.py\", line 867, in full_dispatch_request\n",
      "    rv = self.dispatch_request()\n",
      "         ^^^^^^^^^^^^^^^^^^^^^^^\n",
      "  File \"/usr/local/lib/python3.11/site-packages/flask/app.py\", line 852, in dispatch_request\n",
      "    return self.ensure_sync(self.view_functions[rule.endpoint])(**view_args)\n",
      "           ^^^^^^^^^^^^^^^^^^^^^^^^^^^^^^^^^^^^^^^^^^^^^^^^^^^^^^^^^^^^^^^^^\n",
      "  File \"/var/folders/3x/ss0gv3b91qz0prf_d6wdpnwm0000gn/T/ipykernel_45091/2527253952.py\", line 59, in predict_emotion_route\n",
      "    predicted_emotion = predict_emotion(audio_data)\n",
      "                        ^^^^^^^^^^^^^^^^^^^^^^^^^^^\n",
      "  File \"/var/folders/3x/ss0gv3b91qz0prf_d6wdpnwm0000gn/T/ipykernel_45091/2527253952.py\", line 23, in predict_emotion\n",
      "    mfcc = extract_mfcc(audio_file)  # Assuming you've defined this function\n",
      "           ^^^^^^^^^^^^\n",
      "NameError: name 'extract_mfcc' is not defined\n",
      "127.0.0.1 - - [06/Nov/2023 22:25:22] \"\u001b[35m\u001b[1mPOST /predict_emotion HTTP/1.1\u001b[0m\" 500 -\n"
     ]
    }
   ],
   "source": [
    "from flask import Flask, render_template, request, jsonify\n",
    "from scipy.io.wavfile import write\n",
    "import io\n",
    "import librosa\n",
    "import numpy as np\n",
    "from keras.models import load_model\n",
    "\n",
    "app = Flask(__name__)\n",
    "\n",
    "### Required code for emotion prediction\n",
    "##############################################################################################\n",
    "##############################################################################################\n",
    "##############################################################################################\n",
    "import librosa\n",
    "import numpy as np\n",
    "from keras.models import load_model\n",
    "# Load the model\n",
    "model = load_model('model/SER_model.h5')  # Replace with the path to your model file\n",
    "# Define extract_mfcc()\n",
    "def extract_mfcc(filename):\n",
    "    y, sr = librosa.load(filename, duration=3, offset=0.5)\n",
    "    mfcc = np.mean(librosa.feature.mfcc(y=y, sr=sr, n_mfcc=40).T, axis=0)\n",
    "    return mfcc\n",
    "# Define the predict_emotion function\n",
    "def predict_emotion(audio_file):\n",
    "    # Extract MFCC features from the audio file\n",
    "    mfcc = extract_mfcc(audio_file)  # Assuming you've defined this function\n",
    "\n",
    "    # Reshape the MFCC features to match the model's input shape\n",
    "    mfcc = mfcc.reshape(1, 40, 1)  # Shape should match (batch_size, num_features, num_timesteps)\n",
    "\n",
    "    # Make predictions using the loaded model\n",
    "    predictions = model.predict(mfcc)\n",
    "\n",
    "    # Get the predicted emotion label\n",
    "    predicted_label = np.argmax(predictions)\n",
    "\n",
    "    if predicted_label==0:\n",
    "        return 'Emotion: Angry'\n",
    "    elif predicted_label==1:\n",
    "        return 'Emotion: Disgust'\n",
    "    elif predicted_label==2:\n",
    "        return 'Emotion: Fear'\n",
    "    elif predicted_label==3:\n",
    "        return 'Emotion: Happy'\n",
    "    elif predicted_label==4:\n",
    "        return 'Emotion: Neutral'\n",
    "    elif predicted_label==5:\n",
    "        return 'Emotion: Pleasant_surprise'\n",
    "    else:\n",
    "        return 'Emotion: Sad'\n",
    "##############################################################################################\n",
    "##############################################################################################\n",
    "##############################################################################################\n",
    "@app.route(\"/\")\n",
    "def index():\n",
    "    return render_template(\"index.html\")\n",
    "\n",
    "@app.route(\"/predict_emotion\", methods=[\"POST\"])\n",
    "def predict_emotion_route():\n",
    "    if \"audio\" in request.files:\n",
    "        audio_data = request.files[\"audio\"].read()\n",
    "        predicted_emotion = predict_emotion(audio_data)\n",
    "\n",
    "        return jsonify({\"Emotion\": predicted_emotion})\n",
    "\n",
    "if __name__ == \"__main__\":\n",
    "    app.run()\n"
   ]
  },
  {
   "cell_type": "code",
   "execution_count": null,
   "id": "e34fc719-4aed-4e01-aae9-1862f0aba26b",
   "metadata": {},
   "outputs": [],
   "source": []
  }
 ],
 "metadata": {
  "kernelspec": {
   "display_name": "Python 3 (ipykernel)",
   "language": "python",
   "name": "python3"
  },
  "language_info": {
   "codemirror_mode": {
    "name": "ipython",
    "version": 3
   },
   "file_extension": ".py",
   "mimetype": "text/x-python",
   "name": "python",
   "nbconvert_exporter": "python",
   "pygments_lexer": "ipython3",
   "version": "3.11.5"
  }
 },
 "nbformat": 4,
 "nbformat_minor": 5
}
