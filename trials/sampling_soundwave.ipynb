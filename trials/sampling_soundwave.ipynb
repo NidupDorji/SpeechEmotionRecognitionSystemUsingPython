{
 "cells": [
  {
   "cell_type": "code",
   "execution_count": 1,
   "id": "2dcd3732-372d-45fa-be63-deec23b2adff",
   "metadata": {},
   "outputs": [
    {
     "name": "stdout",
     "output_type": "stream",
     "text": [
      "Requirement already satisfied: numpy in /usr/local/lib/python3.11/site-packages (1.25.2)\n",
      "Requirement already satisfied: scipy in /usr/local/lib/python3.11/site-packages (1.11.3)\n",
      "Requirement already satisfied: sounddevice in /usr/local/lib/python3.11/site-packages (0.4.6)\n",
      "Requirement already satisfied: CFFI>=1.0 in /usr/local/lib/python3.11/site-packages (from sounddevice) (1.15.1)\n",
      "Requirement already satisfied: pycparser in /usr/local/lib/python3.11/site-packages (from CFFI>=1.0->sounddevice) (2.21)\n",
      "Note: you may need to restart the kernel to use updated packages.\n"
     ]
    }
   ],
   "source": [
    "pip install numpy scipy sounddevice"
   ]
  },
  {
   "cell_type": "code",
   "execution_count": 2,
   "id": "addb05a7-5c59-4b26-a533-951a33ef00b3",
   "metadata": {},
   "outputs": [],
   "source": [
    "import numpy as np\n",
    "import sounddevice as sd"
   ]
  },
  {
   "cell_type": "code",
   "execution_count": 57,
   "id": "ea35c4ca-97da-40a0-852b-0bb85be637dd",
   "metadata": {},
   "outputs": [],
   "source": [
    "# Set the sampling parameters\n",
    "duration = 3  # seconds\n",
    "sampling_rate = 44100  # samples per second\n",
    "frequency = 1200  # Hz (frequency of the sine wave)"
   ]
  },
  {
   "cell_type": "code",
   "execution_count": 58,
   "id": "14960805-ba37-4c48-9ac0-07ed0275e5c0",
   "metadata": {},
   "outputs": [],
   "source": [
    "# Generate a sine wave\n",
    "t = np.linspace(0, duration, int(sampling_rate * duration), endpoint=False)\n",
    "signal = 0.5 * np.sin(2 * np.pi * frequency * t)"
   ]
  },
  {
   "cell_type": "code",
   "execution_count": 59,
   "id": "41c0bc21-ae02-49de-872e-f1367dd31887",
   "metadata": {},
   "outputs": [
    {
     "name": "stdout",
     "output_type": "stream",
     "text": [
      "Playing original sound...\n"
     ]
    }
   ],
   "source": [
    "# Play the original sound\n",
    "print(\"Playing original sound...\")\n",
    "sd.play(signal, sampling_rate)\n",
    "sd.wait()"
   ]
  },
  {
   "cell_type": "code",
   "execution_count": 60,
   "id": "9d5d01d0-45d3-4264-9dd5-7233e15658b0",
   "metadata": {},
   "outputs": [],
   "source": [
    "# Sample the sound at a lower rate\n",
    "downsampling_factor = 15\n",
    "sampled_signal = signal[::downsampling_factor]"
   ]
  },
  {
   "cell_type": "code",
   "execution_count": 62,
   "id": "be46dbc3-276a-4419-90b1-62baf9f5c642",
   "metadata": {},
   "outputs": [
    {
     "name": "stdout",
     "output_type": "stream",
     "text": [
      "Playing sampled sound with a downsampling factor of 15...\n"
     ]
    }
   ],
   "source": [
    "# Play the sampled sound\n",
    "print(f\"Playing sampled sound with a downsampling factor of {downsampling_factor}...\")\n",
    "sd.play(sampled_signal, sampling_rate // downsampling_factor)\n",
    "sd.wait()"
   ]
  },
  {
   "cell_type": "code",
   "execution_count": null,
   "id": "2e5d46a6-0c06-42e9-86b4-c81658796abc",
   "metadata": {},
   "outputs": [],
   "source": []
  }
 ],
 "metadata": {
  "kernelspec": {
   "display_name": "Python 3 (ipykernel)",
   "language": "python",
   "name": "python3"
  },
  "language_info": {
   "codemirror_mode": {
    "name": "ipython",
    "version": 3
   },
   "file_extension": ".py",
   "mimetype": "text/x-python",
   "name": "python",
   "nbconvert_exporter": "python",
   "pygments_lexer": "ipython3",
   "version": "3.11.5"
  }
 },
 "nbformat": 4,
 "nbformat_minor": 5
}
